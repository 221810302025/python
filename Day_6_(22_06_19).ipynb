{
  "nbformat": 4,
  "nbformat_minor": 0,
  "metadata": {
    "colab": {
      "name": "Day-6 (22-06-19).ipynb",
      "version": "0.3.2",
      "provenance": [],
      "include_colab_link": true
    },
    "language_info": {
      "codemirror_mode": {
        "name": "ipython",
        "version": 2
      },
      "file_extension": ".py",
      "mimetype": "text/x-python",
      "name": "python",
      "nbconvert_exporter": "python",
      "pygments_lexer": "ipython2",
      "version": "2.7.16"
    },
    "kernelspec": {
      "display_name": "Python 2",
      "language": "python",
      "name": "python2"
    }
  },
  "cells": [
    {
      "cell_type": "markdown",
      "metadata": {
        "id": "view-in-github",
        "colab_type": "text"
      },
      "source": [
        "<a href=\"https://colab.research.google.com/github/221810302025/python/blob/master/Day_6_(22_06_19).ipynb\" target=\"_parent\"><img src=\"https://colab.research.google.com/assets/colab-badge.svg\" alt=\"Open In Colab\"/></a>"
      ]
    },
    {
      "cell_type": "markdown",
      "metadata": {
        "id": "3QN5ZKS9ehnE",
        "colab_type": "text"
      },
      "source": [
        "# CONTROL FLOW STATEMENTS"
      ]
    },
    {
      "cell_type": "markdown",
      "metadata": {
        "id": "EpXRW_WAehnG",
        "colab_type": "text"
      },
      "source": [
        "# EXAMPLES"
      ]
    },
    {
      "cell_type": "code",
      "metadata": {
        "id": "lcZAjXNJehnH",
        "colab_type": "code",
        "colab": {},
        "outputId": "78429dcd-0024-4aab-c58d-c20bf114b60d"
      },
      "source": [
        "x=10;\n",
        "if(x<15):\n",
        " print(\"the number is less than 15\");"
      ],
      "execution_count": 0,
      "outputs": [
        {
          "output_type": "stream",
          "text": [
            "the number is less than 15\n"
          ],
          "name": "stdout"
        }
      ]
    },
    {
      "cell_type": "code",
      "metadata": {
        "id": "AMeiNBlEehnO",
        "colab_type": "code",
        "colab": {},
        "outputId": "a0c9c7d6-5065-41b5-ed61-8a1dbcec3883"
      },
      "source": [
        "x=10;\n",
        "if(x>15):\n",
        " print(\"the number is less than 15\");\n",
        "else:\n",
        " print(\"the number is greater than 15\");"
      ],
      "execution_count": 0,
      "outputs": [
        {
          "output_type": "stream",
          "text": [
            "the number is greater than 15\n"
          ],
          "name": "stdout"
        }
      ]
    },
    {
      "cell_type": "code",
      "metadata": {
        "id": "fBgh38DXehnT",
        "colab_type": "code",
        "colab": {},
        "outputId": "4cb23c31-65ca-431f-8424-6b6e67f289bd"
      },
      "source": [
        "x=10;\n",
        "if(x>15):\n",
        " print(\"hello good morning\");\n",
        "else:\n",
        " print(\"hello good after noon\");"
      ],
      "execution_count": 0,
      "outputs": [
        {
          "output_type": "stream",
          "text": [
            "hello good after noon\n"
          ],
          "name": "stdout"
        }
      ]
    },
    {
      "cell_type": "markdown",
      "metadata": {
        "id": "v2783v7LehnW",
        "colab_type": "text"
      },
      "source": [
        "# EXAMPLE \n",
        "Need input as two numbers and print the greatest number"
      ]
    },
    {
      "cell_type": "code",
      "metadata": {
        "id": "1R2HO6cRehnX",
        "colab_type": "code",
        "colab": {},
        "outputId": "a8cbe614-be7b-41e5-81ac-baaff72f5eb5"
      },
      "source": [
        "x=10;\n",
        "y=20;\n",
        "if(x>y):\n",
        " print(\"x is greater than y\");\n",
        "else:\n",
        " print(\"y is greater than x\");"
      ],
      "execution_count": 0,
      "outputs": [
        {
          "output_type": "stream",
          "text": [
            "y is greater than x\n"
          ],
          "name": "stdout"
        }
      ]
    },
    {
      "cell_type": "code",
      "metadata": {
        "id": "d3nY1bpMehna",
        "colab_type": "code",
        "colab": {},
        "outputId": "035647a7-e04e-41e7-bb6c-cfdacd90bcc7"
      },
      "source": [
        "x=int(input(\"enter x\"));\n",
        "y=int(input(\"enter y\"));\n",
        "if(x>y):\n",
        " print(\"x is greater than y\");\n",
        "else:\n",
        " print(\"y is greater than x\");"
      ],
      "execution_count": 0,
      "outputs": [
        {
          "output_type": "stream",
          "text": [
            "enter x10\n",
            "enter y20\n",
            "y is greater than x\n"
          ],
          "name": "stdout"
        }
      ]
    },
    {
      "cell_type": "markdown",
      "metadata": {
        "id": "D5bk9C_Vehnf",
        "colab_type": "text"
      },
      "source": [
        "# EXAMPLE\n",
        "Need two numbers as input if both the numbers are same then output must be square a first number if not the output must be multiplication of both numbers\n"
      ]
    },
    {
      "cell_type": "code",
      "metadata": {
        "id": "lDw2Q5Qbehng",
        "colab_type": "code",
        "colab": {},
        "outputId": "b076b001-01d7-4fd3-f341-e0eec2eed314"
      },
      "source": [
        "x=int(input(\"enter x\"));\n",
        "y=int(input(\"enter y\"));\n",
        "if(x==y):\n",
        " print(x**x)\n",
        "else:\n",
        " print(x*y)"
      ],
      "execution_count": 0,
      "outputs": [
        {
          "output_type": "stream",
          "text": [
            "enter x2\n",
            "enter y3\n",
            "6\n"
          ],
          "name": "stdout"
        }
      ]
    },
    {
      "cell_type": "markdown",
      "metadata": {
        "id": "YZ1Erut-ehnj",
        "colab_type": "text"
      },
      "source": [
        "# EXAMPLE\n",
        "Print the number is positive,negative or zero"
      ]
    },
    {
      "cell_type": "code",
      "metadata": {
        "id": "jzdeh4g5ehnk",
        "colab_type": "code",
        "colab": {},
        "outputId": "c4a89295-8508-46b9-8e7e-520e6ed489ef"
      },
      "source": [
        "x=int(input(\"enter x\"));\n",
        "if(x>0):\n",
        " print(\"x is positive number\");\n",
        "elif(x<0):\n",
        " print(\"x is negative number\");\n",
        "else:\n",
        " print(\"x is zero\");"
      ],
      "execution_count": 0,
      "outputs": [
        {
          "output_type": "stream",
          "text": [
            "enter x10\n",
            "x is positive number\n"
          ],
          "name": "stdout"
        }
      ]
    },
    {
      "cell_type": "markdown",
      "metadata": {
        "id": "COhbmulnehnn",
        "colab_type": "text"
      },
      "source": [
        "# LOOPS \n",
        "print the numbers from 1 to 10"
      ]
    },
    {
      "cell_type": "code",
      "metadata": {
        "id": "pb3zUSkqehnp",
        "colab_type": "code",
        "colab": {},
        "outputId": "2c34844c-35dd-439e-c202-dab4686ffbfd"
      },
      "source": [
        "n=1;\n",
        "while(n<=10):\n",
        " print(n);\n",
        " n=n+1;"
      ],
      "execution_count": 0,
      "outputs": [
        {
          "output_type": "stream",
          "text": [
            "1\n",
            "2\n",
            "3\n",
            "4\n",
            "5\n",
            "6\n",
            "7\n",
            "8\n",
            "9\n",
            "10\n"
          ],
          "name": "stdout"
        }
      ]
    },
    {
      "cell_type": "markdown",
      "metadata": {
        "id": "AFJz12lBehns",
        "colab_type": "text"
      },
      "source": [
        "# EXAMPLE\n",
        "print the numbers from 10 to 1"
      ]
    },
    {
      "cell_type": "code",
      "metadata": {
        "id": "7XDiU4jFehns",
        "colab_type": "code",
        "colab": {},
        "outputId": "ff841d5b-3bdb-444e-f108-c1539914339b"
      },
      "source": [
        "n=10;\n",
        "while(n>=1):\n",
        " print(n);\n",
        " n=n-1;"
      ],
      "execution_count": 0,
      "outputs": [
        {
          "output_type": "stream",
          "text": [
            "10\n",
            "9\n",
            "8\n",
            "7\n",
            "6\n",
            "5\n",
            "4\n",
            "3\n",
            "2\n",
            "1\n"
          ],
          "name": "stdout"
        }
      ]
    },
    {
      "cell_type": "markdown",
      "metadata": {
        "id": "BVTzyJosehnv",
        "colab_type": "text"
      },
      "source": [
        "# EXAMPLE\n",
        "print the numbers from -22 to 45"
      ]
    },
    {
      "cell_type": "code",
      "metadata": {
        "id": "ceYU3hRuehnw",
        "colab_type": "code",
        "colab": {},
        "outputId": "b36d5e09-51a1-44e6-9567-4a3b7917a2c7"
      },
      "source": [
        "n=-22;\n",
        "while(n<=45):\n",
        " print(n);\n",
        " n=n+1;"
      ],
      "execution_count": 0,
      "outputs": [
        {
          "output_type": "stream",
          "text": [
            "-22\n",
            "-21\n",
            "-20\n",
            "-19\n",
            "-18\n",
            "-17\n",
            "-16\n",
            "-15\n",
            "-14\n",
            "-13\n",
            "-12\n",
            "-11\n",
            "-10\n",
            "-9\n",
            "-8\n",
            "-7\n",
            "-6\n",
            "-5\n",
            "-4\n",
            "-3\n",
            "-2\n",
            "-1\n",
            "0\n",
            "1\n",
            "2\n",
            "3\n",
            "4\n",
            "5\n",
            "6\n",
            "7\n",
            "8\n",
            "9\n",
            "10\n",
            "11\n",
            "12\n",
            "13\n",
            "14\n",
            "15\n",
            "16\n",
            "17\n",
            "18\n",
            "19\n",
            "20\n",
            "21\n",
            "22\n",
            "23\n",
            "24\n",
            "25\n",
            "26\n",
            "27\n",
            "28\n",
            "29\n",
            "30\n",
            "31\n",
            "32\n",
            "33\n",
            "34\n",
            "35\n",
            "36\n",
            "37\n",
            "38\n",
            "39\n",
            "40\n",
            "41\n",
            "42\n",
            "43\n",
            "44\n",
            "45\n"
          ],
          "name": "stdout"
        }
      ]
    },
    {
      "cell_type": "markdown",
      "metadata": {
        "id": "Kwn0ehneehny",
        "colab_type": "text"
      },
      "source": [
        "# EXAMPLE\n",
        "Print the sum of even numbers from 1 to 100"
      ]
    },
    {
      "cell_type": "code",
      "metadata": {
        "id": "swecITWdehnz",
        "colab_type": "code",
        "colab": {},
        "outputId": "5445124c-c76f-4650-beba-20757b452b18"
      },
      "source": [
        "x=int(input(\"enter x\"));\n",
        "y=int(input(\"enter y\"));\n",
        "sum=0;\n",
        "while(x!=y):\n",
        " if(x%2==0):\n",
        "    sum=sum+x;\n",
        " x=x+1;\n",
        "print(sum);"
      ],
      "execution_count": 0,
      "outputs": [
        {
          "output_type": "stream",
          "text": [
            "enter x1\n",
            "enter y100\n",
            "2450\n"
          ],
          "name": "stdout"
        }
      ]
    },
    {
      "cell_type": "markdown",
      "metadata": {
        "id": "bCgsZykbehn0",
        "colab_type": "text"
      },
      "source": [
        "# EXAMPLE\n",
        "Extract the digits of the number from right side direction"
      ]
    },
    {
      "cell_type": "code",
      "metadata": {
        "id": "oSoZHxChehn1",
        "colab_type": "code",
        "colab": {},
        "outputId": "4fb697d3-fee9-4698-f8d0-3ab411421a15"
      },
      "source": [
        "x=int(input(\"enter x\"));\n",
        "while(x!=0):\n",
        " r=x%10;\n",
        " print(r);\n",
        " x=x//10;"
      ],
      "execution_count": 0,
      "outputs": [
        {
          "output_type": "stream",
          "text": [
            "enter x145\n",
            "5\n",
            "4\n",
            "1\n"
          ],
          "name": "stdout"
        }
      ]
    },
    {
      "cell_type": "markdown",
      "metadata": {
        "id": "A3flfZsCehn4",
        "colab_type": "text"
      },
      "source": [
        "# EXAMPLE\n",
        "Print sum of even numbers in the given number"
      ]
    },
    {
      "cell_type": "code",
      "metadata": {
        "id": "HabQTgtoehn4",
        "colab_type": "code",
        "colab": {},
        "outputId": "db833016-06d3-4f36-aaeb-bc14ed12cd8b"
      },
      "source": [
        "x=int(input(\"enter x\"));\n",
        "sum=0;\n",
        "while(x!=0):\n",
        " r=x%10;\n",
        " if(r%2==0):\n",
        "  sum=sum+r;\n",
        " x=x//10;\n",
        "print(sum);"
      ],
      "execution_count": 0,
      "outputs": [
        {
          "output_type": "stream",
          "text": [
            "enter x1951\n",
            "0\n"
          ],
          "name": "stdout"
        }
      ]
    },
    {
      "cell_type": "markdown",
      "metadata": {
        "id": "r_IFJdKpehn7",
        "colab_type": "text"
      },
      "source": [
        "# EXAMPLE\n",
        "convert the digit into digit name"
      ]
    },
    {
      "cell_type": "code",
      "metadata": {
        "id": "GUuk1JuWehn9",
        "colab_type": "code",
        "colab": {},
        "outputId": "80e7a21e-43a2-4a27-cb6e-2f30af406c73"
      },
      "source": [
        "x=int(input(\"enter x\"));\n",
        "\n",
        "while(x!=0):\n",
        "    r=x%10\n",
        "    \n",
        "    \n",
        "    if(r==0):\n",
        "      print(\"zero\");\n",
        "    elif(r==1):\n",
        "      print(\"one\");\n",
        "    elif(r==2):\n",
        "     print(\"two\");\n",
        "    elif(r==3):\n",
        "     print(\"three\");\n",
        "    elif(r==4):\n",
        "     print(\"four\");\n",
        "    elif(r==5):\n",
        "     print(\"five\");\n",
        "    elif(r==6):\n",
        "     print(\"six\");\n",
        "    elif(r==7):\n",
        "     print(\"seven\");\n",
        "    elif(r==8):\n",
        "     print(\"eight\");\n",
        "    elif(r==9):\n",
        "     print(\"nine\");\n",
        "    x=x//10;\n",
        "    \n"
      ],
      "execution_count": 0,
      "outputs": [
        {
          "output_type": "stream",
          "text": [
            "enter x9876543210\n",
            "zero\n",
            "one\n",
            "two\n",
            "three\n",
            "four\n",
            "five\n",
            "six\n",
            "seven\n",
            "eight\n",
            "nine\n"
          ],
          "name": "stdout"
        }
      ]
    },
    {
      "cell_type": "markdown",
      "metadata": {
        "id": "BOGPkXmtehoA",
        "colab_type": "text"
      },
      "source": [
        "# EXAMPLE\n",
        "How many time the digit is repeated between 2nd and 3rd number"
      ]
    },
    {
      "cell_type": "code",
      "metadata": {
        "id": "v1yxh7QWehoA",
        "colab_type": "code",
        "colab": {},
        "outputId": "933f7523-ecf7-4860-ca54-cabac191848b"
      },
      "source": [
        "digit=int(input(\"number\"));\n",
        "l1=int(input(\"low\"));\n",
        "l2=int(input(\"up\"));\n",
        "cnt=0;\n",
        "while(l1!=l2):\n",
        "    buffer=l1;\n",
        "    while(l1!=0):\n",
        "      r=l1%10;\n",
        "      if(r==digit):\n",
        "            cnt=cnt+1;\n",
        "      l1=l1//10;      \n",
        "        \n",
        "    l1=buffer;    \n",
        "        \n",
        "    l1=l1+1;\n",
        "print(cnt);    \n",
        "\n",
        "\n"
      ],
      "execution_count": 0,
      "outputs": [
        {
          "output_type": "stream",
          "text": [
            "number2\n",
            "low22\n",
            "up30\n",
            "9\n"
          ],
          "name": "stdout"
        }
      ]
    },
    {
      "cell_type": "markdown",
      "metadata": {
        "id": "gGV43RD4ehoD",
        "colab_type": "text"
      },
      "source": [
        "# FUNTIONAL PROGRAMMING\n",
        "Print the numbers upto the given number"
      ]
    },
    {
      "cell_type": "code",
      "metadata": {
        "scrolled": true,
        "id": "APr5mMhFehoE",
        "colab_type": "code",
        "colab": {},
        "outputId": "046c2b95-47f5-42a8-bf94-230df820d3b6"
      },
      "source": [
        "def printNNaturalNumbers(n):\n",
        "    cnt=1\n",
        "    while(cnt<=n):\n",
        "        print(cnt)\n",
        "        cnt=cnt+1\n",
        "    print()\n",
        "    return\n",
        "printNNaturalNumbers(9)\n",
        "printNNaturalNumbers(15)"
      ],
      "execution_count": 0,
      "outputs": [
        {
          "output_type": "stream",
          "text": [
            "1\n",
            "2\n",
            "3\n",
            "4\n",
            "5\n",
            "6\n",
            "7\n",
            "8\n",
            "9\n",
            "()\n",
            "1\n",
            "2\n",
            "3\n",
            "4\n",
            "5\n",
            "6\n",
            "7\n",
            "8\n",
            "9\n",
            "10\n",
            "11\n",
            "12\n",
            "13\n",
            "14\n",
            "15\n",
            "()\n"
          ],
          "name": "stdout"
        }
      ]
    },
    {
      "cell_type": "markdown",
      "metadata": {
        "id": "Sm3Zfus1ehoF",
        "colab_type": "text"
      },
      "source": [
        "# EXAMPLE\n",
        "print the sum of the factorial of the given number"
      ]
    },
    {
      "cell_type": "code",
      "metadata": {
        "id": "bjvofji7ehoG",
        "colab_type": "code",
        "colab": {},
        "outputId": "a83a7fd3-19f2-45c7-d200-575d3e775da0"
      },
      "source": [
        "def findfact(n):\n",
        "  fact=1;\n",
        "  while(n!=0):\n",
        "   fact=fact*n;\n",
        "   n=n-1;\n",
        "  return fact;\n",
        "print(findfact(5));\n",
        "print(findfact(10));\n",
        "print(findfact(20));"
      ],
      "execution_count": 0,
      "outputs": [
        {
          "output_type": "stream",
          "text": [
            "120\n",
            "3628800\n",
            "2432902008176640000\n"
          ],
          "name": "stdout"
        }
      ]
    },
    {
      "cell_type": "markdown",
      "metadata": {
        "id": "5VC2gGhwehoI",
        "colab_type": "text"
      },
      "source": [
        "# EXAMPLE\n",
        "count the palindrome number between the given range"
      ]
    },
    {
      "cell_type": "code",
      "metadata": {
        "id": "NW6Ed-W1ehoJ",
        "colab_type": "code",
        "colab": {},
        "outputId": "12add1ce-b1f3-4ce7-8725-f868ca6a27ab"
      },
      "source": [
        "def countOfPalindromes(n1,n2):\n",
        "    c=0;\n",
        "    if(n1<n2):\n",
        "        up=n2;\n",
        "        low=n1;\n",
        "    while(low!=up):\n",
        "        i=low;\n",
        "        r=0;\n",
        "        while(i!=0):\n",
        "            s=i%10;\n",
        "            r=(r*10)+s;\n",
        "            i=i//10;\n",
        "        if(r==low):\n",
        "            c=c+1;\n",
        "        low=low+1;\n",
        "    return c;\n",
        "print(countOfPalindromes(1,100));"
      ],
      "execution_count": 0,
      "outputs": [
        {
          "output_type": "stream",
          "text": [
            "18\n"
          ],
          "name": "stdout"
        }
      ]
    },
    {
      "cell_type": "code",
      "metadata": {
        "id": "Ah9ujEA4ehoK",
        "colab_type": "code",
        "colab": {}
      },
      "source": [
        ""
      ],
      "execution_count": 0,
      "outputs": []
    }
  ]
}