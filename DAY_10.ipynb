{
  "nbformat": 4,
  "nbformat_minor": 0,
  "metadata": {
    "colab": {
      "name": "DAY 10",
      "version": "0.3.2",
      "provenance": [],
      "include_colab_link": true
    },
    "kernelspec": {
      "name": "python3",
      "display_name": "Python 3"
    }
  },
  "cells": [
    {
      "cell_type": "markdown",
      "metadata": {
        "id": "view-in-github",
        "colab_type": "text"
      },
      "source": [
        "<a href=\"https://colab.research.google.com/github/221810302025/python/blob/master/DAY_10.ipynb\" target=\"_parent\"><img src=\"https://colab.research.google.com/assets/colab-badge.svg\" alt=\"Open In Colab\"/></a>"
      ]
    },
    {
      "cell_type": "code",
      "metadata": {
        "id": "yKmNfgJ9LaSX",
        "colab_type": "code",
        "outputId": "db96c95b-d14f-4a8f-eebf-b16fdde94d8d",
        "colab": {
          "base_uri": "https://localhost:8080/",
          "height": 34
        }
      },
      "source": [
        "def createFile(filename):\n",
        "   f = open(filename,\"w\")\n",
        "   for i in range(10):\n",
        "       f.write(\"This is %d line\\n\" % i)\n",
        "   print(\"File is created and data is written\")\n",
        "   f.close()\n",
        "   return\n",
        "createFile(\"File1.txt\")  "
      ],
      "execution_count": 0,
      "outputs": [
        {
          "output_type": "stream",
          "text": [
            "File is created and data is written\n"
          ],
          "name": "stdout"
        }
      ]
    },
    {
      "cell_type": "code",
      "metadata": {
        "id": "gEemzBnvH6hr",
        "colab_type": "code",
        "outputId": "ff182020-1cf8-4c8a-9bca-ad56c3893328",
        "colab": {
          "base_uri": "https://localhost:8080/",
          "height": 202
        }
      },
      "source": [
        "#Function for reading the file data\n",
        "def readFile(filename):\n",
        "    f=open(filename,\"r\")\n",
        "    if f.mode == \"r\": \n",
        "      x=f.read()\n",
        "      print(x)\n",
        "    f.close()     \n",
        "    return\n",
        " \n",
        "readFile(\"File1.txt\")"
      ],
      "execution_count": 0,
      "outputs": [
        {
          "output_type": "stream",
          "text": [
            "This is 0 line\n",
            "This is 1 line\n",
            "This is 2 line\n",
            "This is 3 line\n",
            "This is 4 line\n",
            "This is 5 line\n",
            "This is 6 line\n",
            "This is 7 line\n",
            "This is 8 line\n",
            "This is 9 line\n",
            "\n"
          ],
          "name": "stdout"
        }
      ]
    },
    {
      "cell_type": "code",
      "metadata": {
        "id": "pFOSy6IoQNbo",
        "colab_type": "code",
        "outputId": "e82995d3-2d17-42b7-d630-bce11b739cf6",
        "colab": {
          "base_uri": "https://localhost:8080/",
          "height": 34
        }
      },
      "source": [
        "#Data to append\n",
        "def DataAnalysiscount(filename,word):\n",
        "    f=open(filename,\"r\")\n",
        "    if f.mode==\"r\":\n",
        "        x=f.read()\n",
        "        list=x.split()\n",
        "    cnt=list.count(word)\n",
        "    return cnt\n",
        "print(DataAnalysiscount(\"File1.txt\",\"rest\"))\n",
        "\n"
      ],
      "execution_count": 0,
      "outputs": [
        {
          "output_type": "stream",
          "text": [
            "0\n"
          ],
          "name": "stdout"
        }
      ]
    },
    {
      "cell_type": "code",
      "metadata": {
        "id": "lTZAcdm7iQwm",
        "colab_type": "code",
        "outputId": "e7522ab6-c039-4242-d75b-d09b1fb549cd",
        "colab": {
          "base_uri": "https://localhost:8080/",
          "height": 34
        }
      },
      "source": [
        "#Function to count of characters in the file\n",
        "def countCharecter(filename):\n",
        "    f=open(filename,\"r\")\n",
        "    if f.mode==\"r\":\n",
        "        x=f.read()\n",
        "        lst=list(x)\n",
        "    return len(lst)\n",
        "print(countCharecter(\"File1.txt\"))\n",
        "\n"
      ],
      "execution_count": 0,
      "outputs": [
        {
          "output_type": "stream",
          "text": [
            "150\n"
          ],
          "name": "stdout"
        }
      ]
    },
    {
      "cell_type": "code",
      "metadata": {
        "id": "exof5lZNnPHF",
        "colab_type": "code",
        "outputId": "6da3132b-7429-41ab-8d04-113cc2cd7557",
        "colab": {
          "base_uri": "https://localhost:8080/",
          "height": 34
        }
      },
      "source": [
        "\n",
        "#Function to count the upper case character from the given file\n",
        "def uppercount(filename):\n",
        "    cntupper=0\n",
        "    f=open(filename,\"r\")\n",
        "    if f.mode ==\"r\":\n",
        "        x=f.read()\n",
        "        lst=list(x)\n",
        "    for i in lst:\n",
        "        if i.isupper():\n",
        "            cntupper+=1\n",
        "    return cntupper\n",
        "uppercount(\"File1.txt\")\n"
      ],
      "execution_count": 0,
      "outputs": [
        {
          "output_type": "execute_result",
          "data": {
            "text/plain": [
              "10"
            ]
          },
          "metadata": {
            "tags": []
          },
          "execution_count": 34
        }
      ]
    },
    {
      "cell_type": "code",
      "metadata": {
        "id": "yFQftaLkJgFx",
        "colab_type": "code",
        "outputId": "dea86d9e-da81-422a-f36e-040ca36e73a7",
        "colab": {
          "base_uri": "https://localhost:8080/",
          "height": 50
        }
      },
      "source": [
        "import re\n",
        "def phonenumbervalidate(phone):\n",
        " pattern='^[6-9][0-9]{9}$'\n",
        " phone=str(phone)\n",
        " if re.match(pattern,phone):\n",
        "   return True\n",
        " return False\n",
        "print(phonenumbervalidate(9545246472))\n",
        "print(phonenumbervalidate(9454845))\n"
      ],
      "execution_count": 0,
      "outputs": [
        {
          "output_type": "stream",
          "text": [
            "True\n",
            "False\n"
          ],
          "name": "stdout"
        }
      ]
    },
    {
      "cell_type": "code",
      "metadata": {
        "id": "zNODudiJLM8S",
        "colab_type": "code",
        "outputId": "9aa2163c-52fa-46a7-ae9c-23911d5a9b52",
        "colab": {
          "base_uri": "https://localhost:8080/",
          "height": 50
        }
      },
      "source": [
        "# RE -- Validation of Roll Number\n",
        "#152U1A0501\n",
        "def validaterollnumber(number):\n",
        "  number=str(number)\n",
        "  pattern='^[1][5][2][U][1][A][0][1-9][0-6][0-9]$'\n",
        "  if re.match(pattern,number):\n",
        "    return True\n",
        "  return False\n",
        "print(validaterollnumber(\"152U1A0555\"))\n",
        "print(validaterollnumber(\"152U1A0485\"))"
      ],
      "execution_count": 0,
      "outputs": [
        {
          "output_type": "stream",
          "text": [
            "True\n",
            "False\n"
          ],
          "name": "stdout"
        }
      ]
    },
    {
      "cell_type": "code",
      "metadata": {
        "id": "-2LH6vCpSxyx",
        "colab_type": "code",
        "outputId": "d49e5683-87e3-470d-be93-291afd682f4b",
        "colab": {
          "base_uri": "https://localhost:8080/",
          "height": 50
        }
      },
      "source": [
        "# Validation for EmailID username@domainname.extension\n",
        "import re\n",
        "def validateemailid(email):\n",
        "  pattern='^[0-9a-z][0-9a-z._]{4,13}[0-9a-z][@][a-z0-9]{3,18}[.][a-z]{2,4}$'\n",
        "  if re.match(pattern,email):\n",
        "    return True\n",
        "  return False\n",
        "print(validateemailid('pranavi2001@gmail.com'))\n",
        "print(validateemailid('PRANAVI2001@gmail.com'))"
      ],
      "execution_count": 0,
      "outputs": [
        {
          "output_type": "stream",
          "text": [
            "True\n",
            "False\n"
          ],
          "name": "stdout"
        }
      ]
    },
    {
      "cell_type": "code",
      "metadata": {
        "id": "91dQpPhtWIVg",
        "colab_type": "code",
        "colab": {}
      },
      "source": [
        "#regular expression -- password\n",
        "#parameters : {6-15}\n",
        "#Accept Lower case,Uppercase,spl symbols (@,$,#,!)\n"
      ],
      "execution_count": 0,
      "outputs": []
    }
  ]
}