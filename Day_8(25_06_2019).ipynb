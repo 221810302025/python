{
  "nbformat": 4,
  "nbformat_minor": 0,
  "metadata": {
    "colab": {
      "name": "Day 8(25-06-2019).ipynb",
      "version": "0.3.2",
      "provenance": [],
      "include_colab_link": true
    },
    "language_info": {
      "codemirror_mode": {
        "name": "ipython",
        "version": 3
      },
      "file_extension": ".py",
      "mimetype": "text/x-python",
      "name": "python",
      "nbconvert_exporter": "python",
      "pygments_lexer": "ipython3",
      "version": "3.7.3"
    },
    "kernelspec": {
      "display_name": "Python 3",
      "language": "python",
      "name": "python3"
    }
  },
  "cells": [
    {
      "cell_type": "markdown",
      "metadata": {
        "id": "view-in-github",
        "colab_type": "text"
      },
      "source": [
        "<a href=\"https://colab.research.google.com/github/221810302025/python/blob/master/Day_8(25_06_2019).ipynb\" target=\"_parent\"><img src=\"https://colab.research.google.com/assets/colab-badge.svg\" alt=\"Open In Colab\"/></a>"
      ]
    },
    {
      "cell_type": "markdown",
      "metadata": {
        "id": "kvgP3y8Hfz15",
        "colab_type": "text"
      },
      "source": [
        "# Data Structures"
      ]
    },
    {
      "cell_type": "markdown",
      "metadata": {
        "id": "hTnxIrR-fz16",
        "colab_type": "text"
      },
      "source": [
        "# Binary search\n",
        "midIndex=leftIndex+(rightIndex-leftIndex)//2;                                                                 \n",
        "midIndex=0+(7-0)//2;                                                                                          \n",
        "mixIndex=3                                                                                                          \n",
        "key>midIndex(midIndex-1)                                                                                                   \n",
        "key<midIndex(midIndex+1)                                                                                        \n",
        "Can be applyed to sorted and unique list"
      ]
    },
    {
      "cell_type": "code",
      "metadata": {
        "id": "vuiccBRQfz18",
        "colab_type": "code",
        "colab": {},
        "outputId": "20ce63dd-87a3-4c3b-d246-42568279b6a8"
      },
      "source": [
        "def binarysearch(a,lIndex,rIndex,tarItem):\n",
        "    while lIndex<=rIndex:\n",
        "        mindex=lIndex+(rIndex-lIndex)//2;\n",
        "        if a[mindex]==tarItem:\n",
        "            return mindex\n",
        "        if a[mindex]>tarItem:\n",
        "            rIndex=mindex-1\n",
        "        else:\n",
        "            lIndex=mindex+1\n",
        "    return -1\n",
        "list1=[1,4,9,15,25,45,57,88,98]\n",
        "res = binarysearch(list1,0,8,818)\n",
        "if res!=-1:\n",
        "    print(\"Item is found\")\n",
        "else:\n",
        "    print(\"Item is not found\")\n",
        "        "
      ],
      "execution_count": 0,
      "outputs": [
        {
          "output_type": "stream",
          "text": [
            "Item is not found\n"
          ],
          "name": "stdout"
        }
      ]
    },
    {
      "cell_type": "markdown",
      "metadata": {
        "id": "Ol_rryUPfz2D",
        "colab_type": "text"
      },
      "source": [
        "# Example\n",
        "Bubble Sort                                                                                                    \n",
        "** It compare the adj items, if the first item is greater than the second item then there would required of swap the items\n"
      ]
    },
    {
      "cell_type": "code",
      "metadata": {
        "id": "6BkjNpXgfz2E",
        "colab_type": "code",
        "colab": {},
        "outputId": "a09b4bf1-ae89-4c0e-b049-70509c308ad1"
      },
      "source": [
        "def bubblesort(a):\n",
        "    for i in range (len(a)-1):\n",
        "        for j in range (len(a)-1):\n",
        "            if a[j]>a[j+1]:\n",
        "                a[j],a[j+1]=a[j+1],a[j]\n",
        "    for i in range (len(a)):\n",
        "        print(a[i],end=\" \")\n",
        "lst1 = [19,1,25,6,18,3]\n",
        "bubblesort(lst1)\n"
      ],
      "execution_count": 0,
      "outputs": [
        {
          "output_type": "stream",
          "text": [
            "1 3 6 18 19 25 "
          ],
          "name": "stdout"
        }
      ]
    },
    {
      "cell_type": "markdown",
      "metadata": {
        "id": "fLm6fnw1fz2H",
        "colab_type": "text"
      },
      "source": [
        "# String in Python\n",
        "A string is a sequence of characters <br>                                                                            \n",
        "The conversion of character to a number is happens with ASCII Numbers                                         \n",
        "ASCII Number:                                                                                                      \n",
        "A-Z----------65-90                                                                                                     \n",
        "a-z----------97-122                                                                                                        \n",
        "0-9----------48-57                                                                                             "
      ]
    },
    {
      "cell_type": "markdown",
      "metadata": {
        "id": "d2cXvU-ufz2I",
        "colab_type": "text"
      },
      "source": [
        "# Example"
      ]
    },
    {
      "cell_type": "markdown",
      "metadata": {
        "id": "YAsI3fA2fz2J",
        "colab_type": "raw"
      },
      "source": [
        "#Creating a string\n",
        "str=\"Application\"\n",
        "print(str)\n",
        " \n",
        "str1=\"Application\"\n",
        "print(str1)\n",
        "str2=\"\"\"Application Test\n",
        "      working\n",
        "      completed\n",
        "      List\n",
        "      Strings\n",
        "      Python\"\"\"\n",
        "print(str2)"
      ]
    },
    {
      "cell_type": "code",
      "metadata": {
        "id": "vwuDgFg7fz2K",
        "colab_type": "code",
        "colab": {},
        "outputId": "ff70c3d3-c8cf-4fa8-da69-df52b6b99eee"
      },
      "source": [
        "str=\"Application\"\n",
        "print(str)\n",
        "print(\"str[0]=\",str[0])\n",
        "print(\"str[1]=\",str[1])\n",
        "print(\"str[-1]=\",str[-1])\n",
        "print(\"str[-3]=\",str[-3])\n",
        "print(\"str[1:5]=\",str[1:5])\n",
        "print(\"str[:5]=\",str[:5])\n",
        "print(\"str[5:-2]=\",str[5:-2])\n",
        "print(\"str[::-1]=\",str[::-1])#used for reverse the string"
      ],
      "execution_count": 0,
      "outputs": [
        {
          "output_type": "stream",
          "text": [
            "Application\n",
            "str[0]= A\n",
            "str[1]= p\n",
            "str[-1]= n\n",
            "str[-3]= i\n",
            "str[1:5]= ppli\n",
            "str[:5]= Appli\n",
            "str[5:-2]= cati\n",
            "str[::-1]= noitacilppA\n"
          ],
          "name": "stdout"
        }
      ]
    },
    {
      "cell_type": "markdown",
      "metadata": {
        "id": "uBy5FFl_fz2R",
        "colab_type": "text"
      },
      "source": [
        "# Palindrome of String"
      ]
    },
    {
      "cell_type": "code",
      "metadata": {
        "id": "vcj-T2fOfz2S",
        "colab_type": "code",
        "colab": {},
        "outputId": "53afe8b4-e14f-4174-cbd6-ce981b09218b"
      },
      "source": [
        "def isPalindrome(s):\n",
        "    if s==s[::-1]:\n",
        "        return True\n",
        "    else:\n",
        "        return False\n",
        "print(isPalindrome(\"Python\"))\n",
        "print(isPalindrome(\"jalaj\"))"
      ],
      "execution_count": 0,
      "outputs": [
        {
          "output_type": "stream",
          "text": [
            "False\n",
            "True\n"
          ],
          "name": "stdout"
        }
      ]
    },
    {
      "cell_type": "code",
      "metadata": {
        "id": "xvmZgXnjfz2W",
        "colab_type": "code",
        "colab": {},
        "outputId": "963001d8-4b71-4cce-ac0c-7dd087077951"
      },
      "source": [
        "# count the digtits of a number\n",
        "n=int(input(\"enter a number\"))\n",
        "cnt=0\n",
        "while n!=0:\n",
        "    cnt=cnt+1;\n",
        "    n=n//10;\n",
        "print(cnt)    "
      ],
      "execution_count": 0,
      "outputs": [
        {
          "output_type": "stream",
          "text": [
            "enter a number14978\n",
            "5\n"
          ],
          "name": "stdout"
        }
      ]
    },
    {
      "cell_type": "code",
      "metadata": {
        "id": "6aq1cZvQfz2a",
        "colab_type": "code",
        "colab": {},
        "outputId": "03fefc0f-72a2-441f-e4af-24d21fa0b55a"
      },
      "source": [
        "#count of chars --String len function\n",
        "def countofChars(str):\n",
        "    return len(str)\n",
        "countofChars(\"Application\")"
      ],
      "execution_count": 0,
      "outputs": [
        {
          "output_type": "execute_result",
          "data": {
            "text/plain": [
              "11"
            ]
          },
          "metadata": {
            "tags": []
          },
          "execution_count": 29
        }
      ]
    },
    {
      "cell_type": "code",
      "metadata": {
        "id": "OimJo-Qifz2f",
        "colab_type": "code",
        "colab": {},
        "outputId": "f371b4cd-352c-45ff-90b5-9ec2d60a6c0e"
      },
      "source": [
        "#count of Digits in a number --String len function\n",
        "def countDigits(n):\n",
        "    return len(n)\n",
        "countDigits(\"25418\")"
      ],
      "execution_count": 0,
      "outputs": [
        {
          "output_type": "execute_result",
          "data": {
            "text/plain": [
              "5"
            ]
          },
          "metadata": {
            "tags": []
          },
          "execution_count": 30
        }
      ]
    },
    {
      "cell_type": "code",
      "metadata": {
        "id": "RyxpWM54fz2m",
        "colab_type": "code",
        "colab": {},
        "outputId": "8c4abcec-8a2a-4c19-e561-8f4d99085ee7"
      },
      "source": [
        "#String--Converts--List--len of the list\n",
        "def count(str):\n",
        "    lst1=list(str)\n",
        "    return len(lst1)\n",
        "count(\"App\")\n",
        "    "
      ],
      "execution_count": 0,
      "outputs": [
        {
          "output_type": "execute_result",
          "data": {
            "text/plain": [
              "3"
            ]
          },
          "metadata": {
            "tags": []
          },
          "execution_count": 42
        }
      ]
    },
    {
      "cell_type": "markdown",
      "metadata": {
        "id": "YaHWLnkzfz2q",
        "colab_type": "text"
      },
      "source": [
        "# String Examples     \n",
        "Test cases:-                                                                                                        \n",
        "Application--2                                                                                                             \n",
        "TeST--3"
      ]
    },
    {
      "cell_type": "code",
      "metadata": {
        "id": "u_2zeihHfz2r",
        "colab_type": "code",
        "colab": {},
        "outputId": "ee357f99-4939-4d99-9234-61062d832702"
      },
      "source": [
        "def countUpperCase(str):\n",
        "    cnt=0\n",
        "    lst=list(str)\n",
        "    for x in range (len(lst)):\n",
        "        if ord(lst[x])>=65 and ord(lst[x])<=90:\n",
        "            cnt=cnt+1\n",
        "    return cnt\n",
        "\n",
        "print(countUpperCase(\"AppLication\"))\n",
        "print(countUpperCase(\"TeST\"))"
      ],
      "execution_count": 0,
      "outputs": [
        {
          "output_type": "stream",
          "text": [
            "2\n",
            "3\n"
          ],
          "name": "stdout"
        }
      ]
    },
    {
      "cell_type": "markdown",
      "metadata": {
        "id": "dqIUrBMbfz2w",
        "colab_type": "text"
      },
      "source": [
        "# Print of digit in a string\n",
        "Test cases:-                                                                                                   \n",
        "Application1889--1889                                                                                             \n",
        "Te1520st--1520"
      ]
    },
    {
      "cell_type": "code",
      "metadata": {
        "scrolled": true,
        "id": "cwQLcTtMfz2x",
        "colab_type": "code",
        "colab": {},
        "outputId": "eadf4212-637e-48ec-bcdc-b6f1de813be2"
      },
      "source": [
        "def printDigits(str):\n",
        "        lst=list(str)\n",
        "        for x in range(len(lst)):\n",
        "            \n",
        "            if ord(lst[x])>=48 and ord(lst[x])<=57:\n",
        "                print(lst[x],end=\"\")\n",
        "printDigits(\"Application1889\")#1889"
      ],
      "execution_count": 0,
      "outputs": [
        {
          "output_type": "stream",
          "text": [
            "1889"
          ],
          "name": "stdout"
        }
      ]
    },
    {
      "cell_type": "code",
      "metadata": {
        "id": "Mn7PkCZdfz22",
        "colab_type": "code",
        "colab": {},
        "outputId": "effa43a8-e41d-48df-86fe-a95d1ffbbe43"
      },
      "source": [
        "def countDigits(str):\n",
        "    lst=list(str)\n",
        "    s=''\n",
        "    for x in lst:\n",
        "        if x.isdecimal():\n",
        "            s+=x\n",
        "    return s        \n",
        "       \n",
        "print(countDigits(\"NextSparkling2019\"));"
      ],
      "execution_count": 0,
      "outputs": [
        {
          "output_type": "stream",
          "text": [
            "2019\n"
          ],
          "name": "stdout"
        }
      ]
    },
    {
      "cell_type": "markdown",
      "metadata": {
        "id": "_8HWYeIvfz26",
        "colab_type": "text"
      },
      "source": [
        "# Strings\n",
        "Test cases:                                                                                                       \n",
        "Application1889---26                                                                                                       \n",
        "te1871st---17"
      ]
    },
    {
      "cell_type": "code",
      "metadata": {
        "id": "rP4r0Vt3fz27",
        "colab_type": "code",
        "colab": {},
        "outputId": "0969e58a-88be-4e46-a498-285e2ce62b15"
      },
      "source": [
        "def sumofDigits(str):\n",
        "    sum=0\n",
        "    lst=list(str)\n",
        "    for x in range(len(lst)):\n",
        "        if ord(lst[x])>=48 and ord(lst[x])<=57:\n",
        "            sum=sum+ord(lst[x])-48;\n",
        "    return sum\n",
        "sumofDigits(\"Application1889\")          "
      ],
      "execution_count": 0,
      "outputs": [
        {
          "output_type": "execute_result",
          "data": {
            "text/plain": [
              "26"
            ]
          },
          "metadata": {
            "tags": []
          },
          "execution_count": 74
        }
      ]
    },
    {
      "cell_type": "markdown",
      "metadata": {
        "id": "Bo1FdHshfz3B",
        "colab_type": "text"
      },
      "source": [
        "# Strings--Add only even digits to sum\n",
        "Test cases:                                                                                                       \n",
        "Application1889---16                                                                                                      \n",
        "Te1591st---0                                                                                                     \n",
        "Wor7852king---10"
      ]
    },
    {
      "cell_type": "code",
      "metadata": {
        "id": "cs_Pq1QXfz3C",
        "colab_type": "code",
        "colab": {},
        "outputId": "0a8f36ad-a757-4770-d9b7-15538ec3eaa8"
      },
      "source": [
        "def sumOnlyEvenDigits(str):\n",
        "    sum=0\n",
        "    lst=list(str)\n",
        "    for x in range (len(lst)):\n",
        "        if ord(lst[x])>=48 and ord(lst[x])<=57:\n",
        "            ac=ord(lst[x])-48\n",
        "            if (ac%2==0):\n",
        "                sum=sum+ac\n",
        "    return sum\n",
        "print(sumOnlyEvenDigits(\"Application1889\"))\n",
        "print(sumOnlyEvenDigits(\"Te1591st\"))"
      ],
      "execution_count": 0,
      "outputs": [
        {
          "output_type": "stream",
          "text": [
            "16\n",
            "0\n"
          ],
          "name": "stdout"
        }
      ]
    },
    {
      "cell_type": "markdown",
      "metadata": {
        "id": "_6ORk3hEfz3H",
        "colab_type": "text"
      },
      "source": [
        "# String Character conversion\n",
        "If the input character is Upper case character and convert lower case                                              \n",
        "If input character is lower case and then                                                                    \n",
        "test cases                                                                                                \n",
        "AppLICation---aPPlicATION                                                                          \n",
        "TesT---tESt"
      ]
    },
    {
      "cell_type": "code",
      "metadata": {
        "id": "guWb8TfIfz3I",
        "colab_type": "code",
        "colab": {},
        "outputId": "73cfacdf-73b7-4893-a3e4-ec6a83178f3a"
      },
      "source": [
        "s=input('enter the string')\n",
        "print(s.swapcase())"
      ],
      "execution_count": 0,
      "outputs": [
        {
          "output_type": "stream",
          "text": [
            "enter the stringAppLICation\n",
            "aPPlicATION\n"
          ],
          "name": "stdout"
        }
      ]
    },
    {
      "cell_type": "code",
      "metadata": {
        "id": "2sI84v1Afz3o",
        "colab_type": "code",
        "colab": {}
      },
      "source": [
        ""
      ],
      "execution_count": 0,
      "outputs": []
    },
    {
      "cell_type": "markdown",
      "metadata": {
        "id": "1smG-Zljfz3q",
        "colab_type": "text"
      },
      "source": [
        "# Stringonly specific word in Upper case/lower case\n",
        "Test cases                                                                                                   \n",
        "Application test woring---TEST                                                                                      \n",
        "Python is Easy-----IS"
      ]
    },
    {
      "cell_type": "code",
      "metadata": {
        "id": "Ibyx18nDfz3r",
        "colab_type": "code",
        "colab": {}
      },
      "source": [
        ""
      ],
      "execution_count": 0,
      "outputs": []
    },
    {
      "cell_type": "markdown",
      "metadata": {
        "id": "-3AjufAffz3t",
        "colab_type": "text"
      },
      "source": [
        "# Alternate characters printing from both the strings\n",
        "Test cases                                                                                                     \n",
        "'ab''xyz'---axbyz                                                                                             \n",
        "'abcd','xy'---axbycd"
      ]
    },
    {
      "cell_type": "code",
      "metadata": {
        "id": "yegCysJvfz3t",
        "colab_type": "code",
        "colab": {}
      },
      "source": [
        ""
      ],
      "execution_count": 0,
      "outputs": []
    }
  ]
}