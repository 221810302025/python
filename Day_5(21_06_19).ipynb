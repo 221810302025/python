{
  "nbformat": 4,
  "nbformat_minor": 0,
  "metadata": {
    "colab": {
      "name": "Day-5(21-06-19).ipynb",
      "version": "0.3.2",
      "provenance": [],
      "include_colab_link": true
    },
    "language_info": {
      "codemirror_mode": {
        "name": "ipython",
        "version": 2
      },
      "file_extension": ".py",
      "mimetype": "text/x-python",
      "name": "python",
      "nbconvert_exporter": "python",
      "pygments_lexer": "ipython2",
      "version": "2.7.16"
    },
    "kernelspec": {
      "display_name": "Python 2",
      "language": "python",
      "name": "python2"
    }
  },
  "cells": [
    {
      "cell_type": "markdown",
      "metadata": {
        "id": "view-in-github",
        "colab_type": "text"
      },
      "source": [
        "<a href=\"https://colab.research.google.com/github/221810302025/python/blob/master/Day_5(21_06_19).ipynb\" target=\"_parent\"><img src=\"https://colab.research.google.com/assets/colab-badge.svg\" alt=\"Open In Colab\"/></a>"
      ]
    },
    {
      "cell_type": "code",
      "metadata": {
        "id": "oX9ZgwFwdmVW",
        "colab_type": "code",
        "colab": {},
        "outputId": "2710714d-f840-4a41-9cbc-0ee5a17358ef"
      },
      "source": [
        "print(\"Hello\")"
      ],
      "execution_count": 0,
      "outputs": [
        {
          "output_type": "stream",
          "text": [
            "Hello\n"
          ],
          "name": "stdout"
        }
      ]
    },
    {
      "cell_type": "markdown",
      "metadata": {
        "id": "AwW8-ZffdmVb",
        "colab_type": "text"
      },
      "source": [
        "# ARITHMETIC OPERATORS"
      ]
    },
    {
      "cell_type": "code",
      "metadata": {
        "id": "wNbGYq9mdmVc",
        "colab_type": "code",
        "colab": {},
        "outputId": "b4af2068-d20b-4eb9-e6cc-9446847a6f7b"
      },
      "source": [
        "x=10\n",
        "y=20\n",
        "sum=x+y\n",
        "sub=x-y\n",
        "multiplication=x*y\n",
        "divi=x/y\n",
        "modules=x%y\n",
        "division=x//y\n",
        "power=x**y\n",
        "\n",
        "print(sum)\n",
        "print(sub)\n",
        "print(multiplication)\n",
        "print(divi)\n",
        "print(modules)\n",
        "print(division)\n",
        "print(power)"
      ],
      "execution_count": 0,
      "outputs": [
        {
          "output_type": "stream",
          "text": [
            "30\n",
            "-10\n",
            "200\n",
            "0.5\n",
            "10\n",
            "0\n",
            "100000000000000000000\n"
          ],
          "name": "stdout"
        }
      ]
    },
    {
      "cell_type": "code",
      "metadata": {
        "id": "m4wQmdHUdmVh",
        "colab_type": "code",
        "colab": {},
        "outputId": "fb1d8ef0-f729-488d-8965-7ea303f47029"
      },
      "source": [
        "x=20\n",
        "res=x/9\n",
        "print(res)"
      ],
      "execution_count": 0,
      "outputs": [
        {
          "output_type": "stream",
          "text": [
            "2.2222222222222223\n"
          ],
          "name": "stdout"
        }
      ]
    },
    {
      "cell_type": "code",
      "metadata": {
        "id": "W2FVAZgkdmVk",
        "colab_type": "code",
        "colab": {},
        "outputId": "9d71e7a3-5113-484f-fc33-e071bfe99189"
      },
      "source": [
        "x=20\n",
        "res=x//9\n",
        "print(res)"
      ],
      "execution_count": 0,
      "outputs": [
        {
          "output_type": "stream",
          "text": [
            "2\n"
          ],
          "name": "stdout"
        }
      ]
    },
    {
      "cell_type": "code",
      "metadata": {
        "id": "YmHXshBHdmVn",
        "colab_type": "code",
        "colab": {},
        "outputId": "f2b9ced0-95ab-487a-c9d9-b3bcc08dc460"
      },
      "source": [
        "x=1+2**3/4*5\n",
        "print(x)"
      ],
      "execution_count": 0,
      "outputs": [
        {
          "output_type": "stream",
          "text": [
            "11.0\n"
          ],
          "name": "stdout"
        }
      ]
    },
    {
      "cell_type": "code",
      "metadata": {
        "id": "7YBdTumUdmVq",
        "colab_type": "code",
        "colab": {},
        "outputId": "ba1be838-dcc3-4b1f-ddc7-a14029e3b9ab"
      },
      "source": [
        "x=2+5**6/4*8\n",
        "print(x)"
      ],
      "execution_count": 0,
      "outputs": [
        {
          "output_type": "stream",
          "text": [
            "31252.0\n"
          ],
          "name": "stdout"
        }
      ]
    },
    {
      "cell_type": "code",
      "metadata": {
        "id": "PKmwKgBVdmVv",
        "colab_type": "code",
        "colab": {},
        "outputId": "c1987057-a4b9-4e1b-926e-60ce7b77a140"
      },
      "source": [
        "x=2+5**6//4*8\n",
        "print(x)"
      ],
      "execution_count": 0,
      "outputs": [
        {
          "output_type": "stream",
          "text": [
            "31250\n"
          ],
          "name": "stdout"
        }
      ]
    },
    {
      "cell_type": "markdown",
      "metadata": {
        "id": "_ohxOLZBdmV1",
        "colab_type": "text"
      },
      "source": [
        "# RELATIONAL OPERATORS"
      ]
    },
    {
      "cell_type": "code",
      "metadata": {
        "id": "2n-EPQ-5dmV2",
        "colab_type": "code",
        "colab": {},
        "outputId": "4df819c6-e813-483d-8811-e69d72fba9d1"
      },
      "source": [
        "x=10 \n",
        "y=20 \n",
        "print(x<y) \n",
        "print(x<=y) \n",
        "print(x==y) \n",
        "print(x!=y) \n",
        "print(x>y) \n",
        "print(x>=y)"
      ],
      "execution_count": 0,
      "outputs": [
        {
          "output_type": "stream",
          "text": [
            "True\n",
            "True\n",
            "False\n",
            "True\n",
            "False\n",
            "False\n"
          ],
          "name": "stdout"
        }
      ]
    },
    {
      "cell_type": "markdown",
      "metadata": {
        "id": "S35dipUfdmV5",
        "colab_type": "text"
      },
      "source": [
        "# LOGICAL OPERATORS"
      ]
    },
    {
      "cell_type": "code",
      "metadata": {
        "id": "u8E4euCYdmV6",
        "colab_type": "code",
        "colab": {},
        "outputId": "23462688-d449-4b6c-d01d-1d8a31ef7615"
      },
      "source": [
        "x=10\n",
        "res=(x<15)and(x<58)\n",
        "print(res)"
      ],
      "execution_count": 0,
      "outputs": [
        {
          "output_type": "stream",
          "text": [
            "True\n"
          ],
          "name": "stdout"
        }
      ]
    },
    {
      "cell_type": "code",
      "metadata": {
        "id": "FbvGS0JedmV9",
        "colab_type": "code",
        "colab": {},
        "outputId": "de617681-2132-4de6-ec09-3a7fd83a9770"
      },
      "source": [
        "x=10\n",
        "res=(x<15)\n",
        "print(res)\n",
        "res=(x<58)\n",
        "print(res)"
      ],
      "execution_count": 0,
      "outputs": [
        {
          "output_type": "stream",
          "text": [
            "True\n",
            "True\n"
          ],
          "name": "stdout"
        }
      ]
    },
    {
      "cell_type": "code",
      "metadata": {
        "id": "Io1Pk5hVdmWA",
        "colab_type": "code",
        "colab": {},
        "outputId": "dbd50481-e817-4e10-f966-e991dcb0f531"
      },
      "source": [
        "x=12\n",
        "res=(x>9) and (x>16)\n",
        "print(res)"
      ],
      "execution_count": 0,
      "outputs": [
        {
          "output_type": "stream",
          "text": [
            "False\n"
          ],
          "name": "stdout"
        }
      ]
    },
    {
      "cell_type": "code",
      "metadata": {
        "id": "m0XShgRGdmWD",
        "colab_type": "code",
        "colab": {},
        "outputId": "fa7add67-c038-4534-be41-5f5cb734890b"
      },
      "source": [
        "x=12\n",
        "res=(x>58) and (x>16)\n",
        "print(res)"
      ],
      "execution_count": 0,
      "outputs": [
        {
          "output_type": "stream",
          "text": [
            "False\n"
          ],
          "name": "stdout"
        }
      ]
    },
    {
      "cell_type": "code",
      "metadata": {
        "id": "LGn6EitBdmWG",
        "colab_type": "code",
        "colab": {},
        "outputId": "6a3b6536-8ee8-4b65-823b-76c6b940841d"
      },
      "source": [
        "x=12\n",
        "res=(x>9) or (x>16)\n",
        "print(res)"
      ],
      "execution_count": 0,
      "outputs": [
        {
          "output_type": "stream",
          "text": [
            "True\n"
          ],
          "name": "stdout"
        }
      ]
    },
    {
      "cell_type": "code",
      "metadata": {
        "id": "04WlOHrGdmWK",
        "colab_type": "code",
        "colab": {},
        "outputId": "a548c681-a545-4fe3-f574-9ac2e21362a2"
      },
      "source": [
        "x=True\n",
        "res=not(x)\n",
        "print(res)"
      ],
      "execution_count": 0,
      "outputs": [
        {
          "output_type": "stream",
          "text": [
            "False\n"
          ],
          "name": "stdout"
        }
      ]
    },
    {
      "cell_type": "code",
      "metadata": {
        "id": "UgA-JZw-dmWO",
        "colab_type": "code",
        "colab": {},
        "outputId": "c51408ad-d265-4aec-b30d-e67089fe8acc"
      },
      "source": [
        "x=False\n",
        "res=not(x)\n",
        "print(res)"
      ],
      "execution_count": 0,
      "outputs": [
        {
          "output_type": "stream",
          "text": [
            "True\n"
          ],
          "name": "stdout"
        }
      ]
    },
    {
      "cell_type": "code",
      "metadata": {
        "id": "3uh6X_YFdmWS",
        "colab_type": "code",
        "colab": {}
      },
      "source": [
        ""
      ],
      "execution_count": 0,
      "outputs": []
    }
  ]
}