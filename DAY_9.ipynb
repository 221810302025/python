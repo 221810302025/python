{
  "nbformat": 4,
  "nbformat_minor": 0,
  "metadata": {
    "colab": {
      "name": "DAY 9",
      "version": "0.3.2",
      "provenance": [],
      "include_colab_link": true
    },
    "kernelspec": {
      "name": "python3",
      "display_name": "Python 3"
    }
  },
  "cells": [
    {
      "cell_type": "markdown",
      "metadata": {
        "id": "view-in-github",
        "colab_type": "text"
      },
      "source": [
        "<a href=\"https://colab.research.google.com/github/221810302025/python/blob/master/DAY_9.ipynb\" target=\"_parent\"><img src=\"https://colab.research.google.com/assets/colab-badge.svg\" alt=\"Open In Colab\"/></a>"
      ]
    },
    {
      "cell_type": "markdown",
      "metadata": {
        "id": "Mb8Gdkq4q-Sd",
        "colab_type": "text"
      },
      "source": [
        "STRING FUNCTION - IN BUILT FUNCTIONS"
      ]
    },
    {
      "cell_type": "code",
      "metadata": {
        "id": "tWxURi-X6atO",
        "colab_type": "code",
        "outputId": "0259cf8e-8a72-4b78-a301-6a3b785665a2",
        "colab": {
          "base_uri": "https://localhost:8080/",
          "height": 50
        }
      },
      "source": [
        "\n",
        "s1 = 'python' \n",
        "print(s1.lower())\n",
        "print(s1.upper())"
      ],
      "execution_count": 0,
      "outputs": [
        {
          "output_type": "stream",
          "text": [
            "python\n",
            "PYTHON\n"
          ],
          "name": "stdout"
        }
      ]
    },
    {
      "cell_type": "code",
      "metadata": {
        "id": "8K9xH7Lu8mjg",
        "colab_type": "code",
        "outputId": "ecf85e17-f90f-4b3a-9cf1-c8abb36955bb",
        "colab": {
          "base_uri": "https://localhost:8080/",
          "height": 50
        }
      },
      "source": [
        "s='application'\n",
        "s1='app1889'\n",
        "print(s.isalpha())\n",
        "print(s1.isalpha())"
      ],
      "execution_count": 0,
      "outputs": [
        {
          "output_type": "stream",
          "text": [
            "True\n",
            "False\n"
          ],
          "name": "stdout"
        }
      ]
    },
    {
      "cell_type": "code",
      "metadata": {
        "id": "ZIrty0Y69GAW",
        "colab_type": "code",
        "outputId": "2339f30b-b37c-4a49-c704-2e0d39a277a1",
        "colab": {
          "base_uri": "https://localhost:8080/",
          "height": 50
        }
      },
      "source": [
        "s=\"python programming\"\n",
        "s1=\"Python programming\"\n",
        "print(s.istitle())\n",
        "print(s1.istitle())"
      ],
      "execution_count": 0,
      "outputs": [
        {
          "output_type": "stream",
          "text": [
            "False\n",
            "False\n"
          ],
          "name": "stdout"
        }
      ]
    },
    {
      "cell_type": "code",
      "metadata": {
        "id": "Yjkz3Qv9973s",
        "colab_type": "code",
        "outputId": "03437c91-3e10-4774-e9d8-9fd7960c5579",
        "colab": {
          "base_uri": "https://localhost:8080/",
          "height": 50
        }
      },
      "source": [
        "s=\"python\"\n",
        "s1=\"PYTHON\"\n",
        "print(s.islower())\n",
        "print(s1.islower())"
      ],
      "execution_count": 0,
      "outputs": [
        {
          "output_type": "stream",
          "text": [
            "True\n",
            "False\n"
          ],
          "name": "stdout"
        }
      ]
    },
    {
      "cell_type": "code",
      "metadata": {
        "id": "KXfCHHk--mBy",
        "colab_type": "code",
        "outputId": "f35559d1-72a4-4bef-fccb-e277a1514711",
        "colab": {
          "base_uri": "https://localhost:8080/",
          "height": 50
        }
      },
      "source": [
        "s=\"python is easy\"\n",
        "l=s.split()\n",
        "print(l)\n",
        "print()"
      ],
      "execution_count": 0,
      "outputs": [
        {
          "output_type": "stream",
          "text": [
            "['python', 'is', 'easy']\n",
            "\n"
          ],
          "name": "stdout"
        }
      ]
    },
    {
      "cell_type": "code",
      "metadata": {
        "id": "mGaIlv1fjVkS",
        "colab_type": "code",
        "outputId": "8c65a7b2-2101-446e-9ec0-3d9ba0a90df7",
        "colab": {
          "base_uri": "https://localhost:8080/",
          "height": 50
        }
      },
      "source": [
        "s='5678'\n",
        "s1='App1889'\n",
        "print(s.isnumeric())\n",
        "print(s1.isnumeric())"
      ],
      "execution_count": 0,
      "outputs": [
        {
          "output_type": "stream",
          "text": [
            "True\n",
            "False\n"
          ],
          "name": "stdout"
        }
      ]
    },
    {
      "cell_type": "code",
      "metadata": {
        "id": "vAreUsRymXkL",
        "colab_type": "code",
        "outputId": "a53bdd6f-1fd1-47a3-a977-0524e0631984",
        "colab": {
          "base_uri": "https://localhost:8080/",
          "height": 50
        }
      },
      "source": [
        "s='Python'\n",
        "s1=' '\n",
        "print(s.isspace())\n",
        "print(s1.isspace())"
      ],
      "execution_count": 0,
      "outputs": [
        {
          "output_type": "stream",
          "text": [
            "False\n",
            "True\n"
          ],
          "name": "stdout"
        }
      ]
    },
    {
      "cell_type": "code",
      "metadata": {
        "id": "GoJAe7kNmx_Q",
        "colab_type": "code",
        "outputId": "6ef5bafc-db4c-41bb-97f3-afdb535232af",
        "colab": {
          "base_uri": "https://localhost:8080/",
          "height": 34
        }
      },
      "source": [
        "str='Python'\n",
        "print(' '.join(str))"
      ],
      "execution_count": 0,
      "outputs": [
        {
          "output_type": "stream",
          "text": [
            "P y t h o n\n"
          ],
          "name": "stdout"
        }
      ]
    },
    {
      "cell_type": "markdown",
      "metadata": {
        "id": "QGF1fx6hrPnW",
        "colab_type": "text"
      },
      "source": [
        "BOOLEAN METHODS"
      ]
    },
    {
      "cell_type": "code",
      "metadata": {
        "id": "3gx242kLnDaU",
        "colab_type": "code",
        "outputId": "53e6a727-1f53-4114-d0b5-2a3bcd7cc37c",
        "colab": {
          "base_uri": "https://localhost:8080/",
          "height": 34
        }
      },
      "source": [
        "print(','.join(['Python','Programming','Easy']))"
      ],
      "execution_count": 0,
      "outputs": [
        {
          "output_type": "stream",
          "text": [
            "Python,Programming,Easy\n"
          ],
          "name": "stdout"
        }
      ]
    },
    {
      "cell_type": "code",
      "metadata": {
        "id": "ztMFWXPVnDpZ",
        "colab_type": "code",
        "outputId": "790b5276-1def-44db-c91a-2a22cd09baef",
        "colab": {
          "base_uri": "https://localhost:8080/",
          "height": 34
        }
      },
      "source": [
        "lst=['','']\n",
        "print(','.join(lst))"
      ],
      "execution_count": 0,
      "outputs": [
        {
          "output_type": "stream",
          "text": [
            ",\n"
          ],
          "name": "stdout"
        }
      ]
    },
    {
      "cell_type": "code",
      "metadata": {
        "id": "O-HkMjYwnQmU",
        "colab_type": "code",
        "outputId": "ad6936d7-80c8-4e63-c428-024f492ae160",
        "colab": {
          "base_uri": "https://localhost:8080/",
          "height": 67
        }
      },
      "source": [
        "s='Python, Programming, is, easy, to, learn'\n",
        "print(s.split())\n",
        "print(s.split('a'))\n",
        "print(s.split(','))"
      ],
      "execution_count": 0,
      "outputs": [
        {
          "output_type": "stream",
          "text": [
            "['Python,', 'Programming,', 'is,', 'easy,', 'to,', 'learn']\n",
            "['Python, Progr', 'mming, is, e', 'sy, to, le', 'rn']\n",
            "['Python', ' Programming', ' is', ' easy', ' to', ' learn']\n"
          ],
          "name": "stdout"
        }
      ]
    },
    {
      "cell_type": "code",
      "metadata": {
        "id": "SWjjeiqQnShr",
        "colab_type": "code",
        "outputId": "3bbf2bb8-f3c0-4bbd-9681-3b84fc495106",
        "colab": {
          "base_uri": "https://localhost:8080/",
          "height": 50
        }
      },
      "source": [
        "s='Python Programming is easy to learn'\n",
        "lst=s.split()\n",
        "print(lst)\n",
        "print(lst.index('is'))"
      ],
      "execution_count": 0,
      "outputs": [
        {
          "output_type": "stream",
          "text": [
            "['Python', 'Programming', 'is', 'easy', 'to', 'learn']\n",
            "2\n"
          ],
          "name": "stdout"
        }
      ]
    },
    {
      "cell_type": "code",
      "metadata": {
        "id": "q2CCQCccnaAN",
        "colab_type": "code",
        "outputId": "b9128ea8-fae9-42ac-911b-0550c2d682e6",
        "colab": {
          "base_uri": "https://localhost:8080/",
          "height": 34
        }
      },
      "source": [
        "s='Python Programming is easy to learn'\n",
        "lst=list(s)\n",
        "print(lst)"
      ],
      "execution_count": 0,
      "outputs": [
        {
          "output_type": "stream",
          "text": [
            "['P', 'y', 't', 'h', 'o', 'n', ' ', 'P', 'r', 'o', 'g', 'r', 'a', 'm', 'm', 'i', 'n', 'g', ' ', 'i', 's', ' ', 'e', 'a', 's', 'y', ' ', 't', 'o', ' ', 'l', 'e', 'a', 'r', 'n']\n"
          ],
          "name": "stdout"
        }
      ]
    },
    {
      "cell_type": "code",
      "metadata": {
        "id": "2DRVTA75nezh",
        "colab_type": "code",
        "outputId": "5b65af64-b3fd-4f70-f282-6e045b6ea9eb",
        "colab": {
          "base_uri": "https://localhost:8080/",
          "height": 34
        }
      },
      "source": [
        "s='Python Programming'\n",
        "print(s.replace('gra','application'))"
      ],
      "execution_count": 0,
      "outputs": [
        {
          "output_type": "stream",
          "text": [
            "Python Proapplicationmming\n"
          ],
          "name": "stdout"
        }
      ]
    },
    {
      "cell_type": "code",
      "metadata": {
        "id": "DBb2xbImnx68",
        "colab_type": "code",
        "outputId": "472c082f-cbd2-43fe-a308-aec7f4328727",
        "colab": {
          "base_uri": "https://localhost:8080/",
          "height": 50
        }
      },
      "source": [
        "t1=('Python','Programming',1989,2019,'Machine Learning','AI')\n",
        "t2=(1,2,3,4,5)\n",
        "print(t1)\n",
        "print(t2)"
      ],
      "execution_count": 0,
      "outputs": [
        {
          "output_type": "stream",
          "text": [
            "('Python', 'Programming', 1989, 2019, 'Machine Learning', 'AI')\n",
            "(1, 2, 3, 4, 5)\n"
          ],
          "name": "stdout"
        }
      ]
    },
    {
      "cell_type": "code",
      "metadata": {
        "id": "Ma8YK-BHn3j_",
        "colab_type": "code",
        "outputId": "f94db154-1531-4ace-81ee-6b97ee4a9804",
        "colab": {
          "base_uri": "https://localhost:8080/",
          "height": 101
        }
      },
      "source": [
        "t1=('Python','Programming',1989,2019,'Machine Learning','AI')\n",
        "print('t1[0] = ',t1[0])\n",
        "print('t1[1] = ',t1[1])\n",
        "print('t1[-1] = ',t1[-1])\n",
        "print('t1[1:4] = ',t1[1:4])\n",
        "print('t1[2:-2] = ',t1[2:-2])"
      ],
      "execution_count": 0,
      "outputs": [
        {
          "output_type": "stream",
          "text": [
            "t1[0] =  Python\n",
            "t1[1] =  Programming\n",
            "t1[-1] =  AI\n",
            "t1[1:4] =  ('Programming', 1989, 2019)\n",
            "t1[2:-2] =  (1989, 2019)\n"
          ],
          "name": "stdout"
        }
      ]
    },
    {
      "cell_type": "code",
      "metadata": {
        "id": "eFVEK6JVoF4t",
        "colab_type": "code",
        "outputId": "f5a904fa-219a-4da9-b9cd-2b5259eb5639",
        "colab": {
          "base_uri": "https://localhost:8080/",
          "height": 34
        }
      },
      "source": [
        "t1=('Python','Programming')\n",
        "t2=(1989,2019,'ML','AI')\n",
        "t3=t1+t2\n",
        "print(t3)"
      ],
      "execution_count": 0,
      "outputs": [
        {
          "output_type": "stream",
          "text": [
            "('Python', 'Programming', 1989, 2019, 'ML', 'AI')\n"
          ],
          "name": "stdout"
        }
      ]
    },
    {
      "cell_type": "markdown",
      "metadata": {
        "id": "GvwgVymqGnf2",
        "colab_type": "text"
      },
      "source": [
        "TUPLE METHODS"
      ]
    },
    {
      "cell_type": "code",
      "metadata": {
        "id": "aC-ZvkA6oM9n",
        "colab_type": "code",
        "outputId": "2f0a37ab-be8c-49d4-fbbb-f783d55aa7fe",
        "colab": {
          "base_uri": "https://localhost:8080/",
          "height": 34
        }
      },
      "source": [
        "t1=('Python','Programming',1989,2019,'Machine Learning','AI')\n",
        "print(len(t1))"
      ],
      "execution_count": 0,
      "outputs": [
        {
          "output_type": "stream",
          "text": [
            "6\n"
          ],
          "name": "stdout"
        }
      ]
    },
    {
      "cell_type": "code",
      "metadata": {
        "id": "FB0W0lW8oT6t",
        "colab_type": "code",
        "outputId": "d6b31023-8176-424d-9034-aa80098bbdf2",
        "colab": {
          "base_uri": "https://localhost:8080/",
          "height": 34
        }
      },
      "source": [
        "t1=(12,15,19,25,6,18)\n",
        "print(min(t1))"
      ],
      "execution_count": 0,
      "outputs": [
        {
          "output_type": "stream",
          "text": [
            "6\n"
          ],
          "name": "stdout"
        }
      ]
    },
    {
      "cell_type": "code",
      "metadata": {
        "id": "fK4n763koWAU",
        "colab_type": "code",
        "outputId": "7d8e9bcd-1280-47b0-d517-f5482ad3db2a",
        "colab": {
          "base_uri": "https://localhost:8080/",
          "height": 50
        }
      },
      "source": [
        "list1=['Python','Programming',1989,2019,'Machine Learning','AI']\n",
        "print(list1)\n",
        "tuple1=tuple(list1)\n",
        "print(tuple1)"
      ],
      "execution_count": 0,
      "outputs": [
        {
          "output_type": "stream",
          "text": [
            "['Python', 'Programming', 1989, 2019, 'Machine Learning', 'AI']\n",
            "('Python', 'Programming', 1989, 2019, 'Machine Learning', 'AI')\n"
          ],
          "name": "stdout"
        }
      ]
    },
    {
      "cell_type": "markdown",
      "metadata": {
        "id": "h-AksLPyGUlp",
        "colab_type": "text"
      },
      "source": [
        "PYTHON -- DICTIONARY"
      ]
    },
    {
      "cell_type": "code",
      "metadata": {
        "id": "HcdKqm_1ojWo",
        "colab_type": "code",
        "outputId": "af6ca3fb-4242-438c-fb65-32da544eea4f",
        "colab": {
          "base_uri": "https://localhost:8080/",
          "height": 84
        }
      },
      "source": [
        "user1 = {'Name':'pranavi','Age':'18','EmailID':'pranavireddy@gmail.com','MobileNumber':'9999999999'}\n",
        "print('user1[Name] = ',user1['Name'])\n",
        "print('user1[EmailID] = ',user1['EmailID'])\n",
        "print('user1[Age] = ',user1['Age'])\n",
        "print('user1[MobileNumber] = ',user1['MobileNumber'])"
      ],
      "execution_count": 0,
      "outputs": [
        {
          "output_type": "stream",
          "text": [
            "user1[Name] =  pranavi\n",
            "user1[EmailID] =  pranavireddy@gmail.com\n",
            "user1[Age] =  18\n",
            "user1[MobileNumber] =  9999999999\n"
          ],
          "name": "stdout"
        }
      ]
    },
    {
      "cell_type": "code",
      "metadata": {
        "id": "zZXcYpbao3ZK",
        "colab_type": "code",
        "outputId": "57cb2f51-ab36-4a92-f14d-d790d55b680e",
        "colab": {
          "base_uri": "https://localhost:8080/",
          "height": 67
        }
      },
      "source": [
        "user1 = {'Name':'pranavi','Age':'18','EmailID':'pranavi@gmail.com','MobileNumber':'9999999999'}\n",
        "print(user1['EmailID'])\n",
        "#update the dict object data\n",
        "user1['EmailID'] = 'pranavireddy@gmail.com'\n",
        "print(user1['EmailID'])\n",
        "user1['Address'] = 'Hyderabad' # New entry for an item in dict object\n",
        "print(user1['Address'])"
      ],
      "execution_count": 0,
      "outputs": [
        {
          "output_type": "stream",
          "text": [
            "pranavi@gmail.com\n",
            "pranavireddy@gmail.com\n",
            "Hyderabad\n"
          ],
          "name": "stdout"
        }
      ]
    },
    {
      "cell_type": "code",
      "metadata": {
        "id": "oBOiORb7pJEm",
        "colab_type": "code",
        "outputId": "81b41986-568f-4373-e47b-453f37a1ca68",
        "colab": {
          "base_uri": "https://localhost:8080/",
          "height": 50
        }
      },
      "source": [
        "user1 = {'Name':'pranavi','Age':'18','EmailID':'pranavi@gmail.com','MobileNumber':'9999999999'}\n",
        "print(len(user1))\n",
        "user1['Address']= 'Hyderabad'\n",
        "print(len(user1))"
      ],
      "execution_count": 0,
      "outputs": [
        {
          "output_type": "stream",
          "text": [
            "4\n",
            "5\n"
          ],
          "name": "stdout"
        }
      ]
    },
    {
      "cell_type": "code",
      "metadata": {
        "id": "btVmH_uxpyN6",
        "colab_type": "code",
        "outputId": "3cb7f42b-b222-4073-9529-06f5da9512de",
        "colab": {
          "base_uri": "https://localhost:8080/",
          "height": 84
        }
      },
      "source": [
        "user1 = {'Name':'pranavi','Age':'18','EmailID':'pranavi@gmail.com','MobileNumber':'9999999999'}\n",
        "user2=user1.copy()\n",
        "print(user1)\n",
        "print(user2)\n",
        "user1['Address'] = 'Hyderabad'\n",
        "print(user1)\n",
        "print(user2)"
      ],
      "execution_count": 0,
      "outputs": [
        {
          "output_type": "stream",
          "text": [
            "{'Name': 'pranavi', 'Age': '18', 'EmailID': 'pranavi@gmail.com', 'MobileNumber': '9999999999'}\n",
            "{'Name': 'pranavi', 'Age': '18', 'EmailID': 'pranavi@gmail.com', 'MobileNumber': '9999999999'}\n",
            "{'Name': 'pranavi', 'Age': '18', 'EmailID': 'pranavi@gmail.com', 'MobileNumber': '9999999999', 'Address': 'Hyderabad'}\n",
            "{'Name': 'pranavi', 'Age': '18', 'EmailID': 'pranavi@gmail.com', 'MobileNumber': '9999999999'}\n"
          ],
          "name": "stdout"
        }
      ]
    },
    {
      "cell_type": "markdown",
      "metadata": {
        "id": "x2HS38QKE2u1",
        "colab_type": "text"
      },
      "source": [
        "STRING FORMATING"
      ]
    },
    {
      "cell_type": "code",
      "metadata": {
        "id": "PKj17Dc1qI8B",
        "colab_type": "code",
        "outputId": "b0af377a-4432-47d9-ae45-52e6d74dd3a3",
        "colab": {
          "base_uri": "https://localhost:8080/",
          "height": 34
        }
      },
      "source": [
        "lst=['Python','Programming']\n",
        "print('%s %s'%(lst[0],lst[1]))"
      ],
      "execution_count": 0,
      "outputs": [
        {
          "output_type": "stream",
          "text": [
            "Python Programming\n"
          ],
          "name": "stdout"
        }
      ]
    },
    {
      "cell_type": "code",
      "metadata": {
        "id": "Bx0T50bREvA8",
        "colab_type": "code",
        "outputId": "be501b9b-1bd8-45c6-9dec-aa7b4998c3c1",
        "colab": {
          "base_uri": "https://localhost:8080/",
          "height": 34
        }
      },
      "source": [
        "lst=['Python','Programming']\n",
        "print('%s %s'%(lst[0],lst[1]))"
      ],
      "execution_count": 0,
      "outputs": [
        {
          "output_type": "stream",
          "text": [
            "Python Programming\n"
          ],
          "name": "stdout"
        }
      ]
    },
    {
      "cell_type": "markdown",
      "metadata": {
        "id": "zsSBRBYOFGYL",
        "colab_type": "text"
      },
      "source": [
        "CONTACT APPLICATION"
      ]
    },
    {
      "cell_type": "code",
      "metadata": {
        "id": "l61xcbMXFRal",
        "colab_type": "code",
        "outputId": "9897a9e4-5908-4d8f-e524-36cbb412a053",
        "colab": {
          "base_uri": "https://localhost:8080/",
          "height": 67
        }
      },
      "source": [
        "contacts = {}\n",
        "def addcontact(name,phone):\n",
        "  #verify that the contact doesn't already exist\n",
        "  if name not in contacts:\n",
        "    contacts[name] = phone\n",
        "    print('Contact %s added' % name)\n",
        "  else:\n",
        "    print('contact %s already exists' % name)\n",
        "  return\n",
        "addcontact('pranavi',9521543154)\n",
        "addcontact('reddy',9546563256)\n",
        "addcontact('pranavi',9565464654)"
      ],
      "execution_count": 0,
      "outputs": [
        {
          "output_type": "stream",
          "text": [
            "Contact pranavi added\n",
            "Contact reddy added\n",
            "contact pranavi already exists\n"
          ],
          "name": "stdout"
        }
      ]
    },
    {
      "cell_type": "code",
      "metadata": {
        "id": "6GN-QOh7F-pU",
        "colab_type": "code",
        "outputId": "424bfda1-553a-429b-cdef-8f3687d7a4b5",
        "colab": {
          "base_uri": "https://localhost:8080/",
          "height": 67
        }
      },
      "source": [
        "#Search for a particular contact from Contact List\n",
        "def searchcontact(name):\n",
        "  if name in contacts:\n",
        "    print(name, ': ' ,contacts[name])\n",
        "  else:\n",
        "    print('%s does not exists' % name)\n",
        "  return\n",
        "searchcontact('pranavi')\n",
        "searchcontact('Dantuluri')\n",
        "searchcontact('Varma')"
      ],
      "execution_count": 0,
      "outputs": [
        {
          "output_type": "stream",
          "text": [
            "pranavi :  9521543154\n",
            "Dantuluri does not exists\n",
            "Varma does not exists\n"
          ],
          "name": "stdout"
        }
      ]
    },
    {
      "cell_type": "code",
      "metadata": {
        "id": "Knjr0bvFe6Qv",
        "colab_type": "code",
        "outputId": "b909f414-53e4-4f05-ec73-16425ccfa8f7",
        "colab": {
          "base_uri": "https://localhost:8080/",
          "height": 34
        }
      },
      "source": [
        "#New Contacts is given as a dictionary\n",
        "#Merge new contact  with existing contacts list\n",
        "def importcontacts(newcontacts):\n",
        "  contacts.update(newcontacts)\n",
        "  print(len(newcontacts.keys()),'Conatcts added successfully')\n",
        "  return\n",
        "newcontacts={'pranavi':9545254362,'masavi':8545416524}\n",
        "importcontacts(newcontacts)"
      ],
      "execution_count": 0,
      "outputs": [
        {
          "output_type": "stream",
          "text": [
            "2 Conatcts added successfully\n"
          ],
          "name": "stdout"
        }
      ]
    },
    {
      "cell_type": "code",
      "metadata": {
        "id": "KR7mlexXfYrO",
        "colab_type": "code",
        "outputId": "59d0efa9-684f-4ed5-cf5b-357da5c3e5cd",
        "colab": {
          "base_uri": "https://localhost:8080/",
          "height": 34
        }
      },
      "source": [
        "print(contacts)"
      ],
      "execution_count": 0,
      "outputs": [
        {
          "output_type": "stream",
          "text": [
            "{'pranavi': 9545254362, 'reddy': 9546563256, 'masavi': 8545416524}\n"
          ],
          "name": "stdout"
        }
      ]
    },
    {
      "cell_type": "code",
      "metadata": {
        "id": "aEC3tpISfkM9",
        "colab_type": "code",
        "outputId": "b8f906c6-4afd-4053-f825-b16d85e295ee",
        "colab": {
          "base_uri": "https://localhost:8080/",
          "height": 50
        }
      },
      "source": [
        "#Delete a conatct from contacts list\n",
        "def deletecontact(name):\n",
        "  if name in contacts:\n",
        "    del contacts[name]\n",
        "    print(name,'is deleted from the contacts')\n",
        "  else:\n",
        "    print(name,'does not exists in the contacts')\n",
        "  return\n",
        "deletecontact('Swadeep')\n",
        "deletecontact('Shashank')"
      ],
      "execution_count": 0,
      "outputs": [
        {
          "output_type": "stream",
          "text": [
            "Swadeep does not exists in the contacts\n",
            "Shashank does not exists in the contacts\n"
          ],
          "name": "stdout"
        }
      ]
    },
    {
      "cell_type": "code",
      "metadata": {
        "id": "Ck_R94OpfzqI",
        "colab_type": "code",
        "outputId": "22bddb5b-5fba-47f7-d70a-409168c40d2b",
        "colab": {
          "base_uri": "https://localhost:8080/",
          "height": 50
        }
      },
      "source": [
        "def updatecontact(name,phone):\n",
        "  if name in contacts:\n",
        "    contacts[name] = phone\n",
        "    print(name,'Updated with new Phone number')\n",
        "  else:\n",
        "    print(name,'Not exists in contacts')\n",
        "  return\n",
        "updatecontact('masavi',9852415846)\n",
        "updatecontact('Abhinav',9865456354)"
      ],
      "execution_count": 0,
      "outputs": [
        {
          "output_type": "stream",
          "text": [
            "masavi Updated with new Phone number\n",
            "Abhinav Not exists in contacts\n"
          ],
          "name": "stdout"
        }
      ]
    },
    {
      "cell_type": "markdown",
      "metadata": {
        "id": "bn6_bWuZgCPV",
        "colab_type": "text"
      },
      "source": [
        "PACKAGES AND MODULES"
      ]
    },
    {
      "cell_type": "code",
      "metadata": {
        "id": "Ln_R5CvTgHd8",
        "colab_type": "code",
        "outputId": "878f7e7b-9f75-423f-85a3-14bb964243b8",
        "colab": {
          "base_uri": "https://localhost:8080/",
          "height": 34
        }
      },
      "source": [
        "from math import floor as f1\n",
        "f1(123.456)"
      ],
      "execution_count": 0,
      "outputs": [
        {
          "output_type": "execute_result",
          "data": {
            "text/plain": [
              "123"
            ]
          },
          "metadata": {
            "tags": []
          },
          "execution_count": 9
        }
      ]
    },
    {
      "cell_type": "code",
      "metadata": {
        "id": "mHhr2jD3gPk3",
        "colab_type": "code",
        "outputId": "5b3ae1b7-62d8-4b0b-b798-648b2108d036",
        "colab": {
          "base_uri": "https://localhost:8080/",
          "height": 34
        }
      },
      "source": [
        "from math import factorial as fact\n",
        "fact(5)"
      ],
      "execution_count": 0,
      "outputs": [
        {
          "output_type": "execute_result",
          "data": {
            "text/plain": [
              "120"
            ]
          },
          "metadata": {
            "tags": []
          },
          "execution_count": 10
        }
      ]
    },
    {
      "cell_type": "code",
      "metadata": {
        "id": "WQENHH7Ugcqs",
        "colab_type": "code",
        "outputId": "1874c09e-40f5-45dc-e9f8-f3982bc30858",
        "colab": {
          "base_uri": "https://localhost:8080/",
          "height": 34
        }
      },
      "source": [
        "import math\n",
        "math.factorial(5)"
      ],
      "execution_count": 0,
      "outputs": [
        {
          "output_type": "execute_result",
          "data": {
            "text/plain": [
              "120"
            ]
          },
          "metadata": {
            "tags": []
          },
          "execution_count": 11
        }
      ]
    },
    {
      "cell_type": "code",
      "metadata": {
        "id": "GR2OOYppgm2q",
        "colab_type": "code",
        "outputId": "e5e4e95a-00fe-49ac-e426-c9c58be019b5",
        "colab": {
          "base_uri": "https://localhost:8080/",
          "height": 34
        }
      },
      "source": [
        "#Generate the random numbers between two limits\n",
        "import random\n",
        "def generaterandomnumbers(n,lb,ub):\n",
        "  for i in range(0,n):\n",
        "    print(random.randint(lb,ub),end=' ')\n",
        "  return\n",
        "generaterandomnumbers(10,12,120)"
      ],
      "execution_count": 0,
      "outputs": [
        {
          "output_type": "stream",
          "text": [
            "32 100 58 74 92 116 116 70 116 68 "
          ],
          "name": "stdout"
        }
      ]
    }
  ]
}